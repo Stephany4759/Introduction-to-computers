{
  "nbformat": 4,
  "nbformat_minor": 0,
  "metadata": {
    "colab": {
      "provenance": [],
      "authorship_tag": "ABX9TyNUDmThfVJfU1kXHPUPmbVJ",
      "include_colab_link": true
    },
    "kernelspec": {
      "name": "python3",
      "display_name": "Python 3"
    },
    "language_info": {
      "name": "python"
    }
  },
  "cells": [
    {
      "cell_type": "markdown",
      "metadata": {
        "id": "view-in-github",
        "colab_type": "text"
      },
      "source": [
        "<a href=\"https://colab.research.google.com/github/Stephany4759/Introduction-to-computers/blob/main/0508.ipynb\" target=\"_parent\"><img src=\"https://colab.research.google.com/assets/colab-badge.svg\" alt=\"Open In Colab\"/></a>"
      ]
    },
    {
      "cell_type": "code",
      "execution_count": 1,
      "metadata": {
        "colab": {
          "base_uri": "https://localhost:8080/"
        },
        "id": "b_j5PW-K5tNE",
        "outputId": "389450f4-6887-4e08-a117-73ddea194a86"
      },
      "outputs": [
        {
          "output_type": "stream",
          "name": "stdout",
          "text": [
            "請輸入體溫35.8\n",
            "體溫正常！\n"
          ]
        }
      ],
      "source": [
        "#體溫判斷\n",
        "temperature = float(input(\"請輸入體溫\"))\n",
        "if temperature >= 37.5:\n",
        "   print(\"體溫過高！\")\n",
        "elif 37.4<=temperature<37.0:\n",
        "  print(\"體溫略高！\")\n",
        "elif 34.0<temperature<=36.9:\n",
        "  print(\"體溫正常！\")\n",
        "else:\n",
        "  print(\"體溫異常，請重新測\")\n",
        "\n"
      ]
    },
    {
      "cell_type": "code",
      "source": [
        "#成績登第判斷\n",
        "score = float(input(\"請輸入分數\"))\n",
        "if (score >= 90):\n",
        "   print(\"A\")\n",
        "elif(80<=score<=89):\n",
        "   print(\"B\")\n",
        "elif(70<= score<=79):\n",
        "   print(\"C\")\n",
        "elif(60<=score<=69):\n",
        "   print(\"D\")\n",
        "else:\n",
        "   print(\"E\")\n"
      ],
      "metadata": {
        "id": "q9UJxSnk_uer",
        "colab": {
          "base_uri": "https://localhost:8080/"
        },
        "outputId": "6dc3d851-8886-4406-a1f1-3c9052e0899f"
      },
      "execution_count": 3,
      "outputs": [
        {
          "output_type": "stream",
          "name": "stdout",
          "text": [
            "請輸入分數80\n",
            "B\n"
          ]
        }
      ]
    },
    {
      "cell_type": "code",
      "source": [
        "#季節判斷\n",
        "monthA = int(input(\"請輸入月份（阿拉伯數字）：\"))\n",
        "if(3<=monthA<=5):\n",
        "  print(\"{}月是春天\".format(monthA))\n",
        "elif(6<=monthA<=8):\n",
        "  print(\"{}月是夏天\".format(monthA))\n",
        "elif(9<=monthA<=11):\n",
        "  print(\"{}月是秋天\".format(monthA))\n",
        "elif(monthA==12 or monthA == 1 or monthA ==2):\n",
        "  print(\"{}月是冬天\".format(monthA))\n",
        "else:\n",
        "  print(\"月份不在範圍內\")"
      ],
      "metadata": {
        "id": "IJClueWwl17s",
        "colab": {
          "base_uri": "https://localhost:8080/"
        },
        "outputId": "17ef2bb0-f445-4654-c8b8-2d25fe145963"
      },
      "execution_count": 4,
      "outputs": [
        {
          "output_type": "stream",
          "name": "stdout",
          "text": [
            "請輸入月份（阿拉伯數字）：4\n",
            "4月是春天\n"
          ]
        }
      ]
    },
    {
      "cell_type": "code",
      "source": [
        "\n"
      ],
      "metadata": {
        "id": "JdwHu6Vz-U6o"
      },
      "execution_count": null,
      "outputs": []
    }
  ]
}